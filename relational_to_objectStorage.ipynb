{
 "cells": [
  {
   "cell_type": "code",
   "execution_count": 3,
   "id": "092f351e",
   "metadata": {},
   "outputs": [
    {
     "name": "stdout",
     "output_type": "stream",
     "text": [
      "Fetching data from athletes...\n"
     ]
    },
    {
     "name": "stderr",
     "output_type": "stream",
     "text": [
      "/Users/raghavvishnoi/opt/anaconda3/lib/python3.9/site-packages/pandas/io/sql.py:762: UserWarning: pandas only support SQLAlchemy connectable(engine/connection) ordatabase string URI or sqlite3 DBAPI2 connectionother DBAPI2 objects are not tested, please consider using SQLAlchemy\n",
      "  warnings.warn(\n"
     ]
    },
    {
     "name": "stdout",
     "output_type": "stream",
     "text": [
      "Data fetched for athletes, converting to Parquet...\n",
      "File uploaded successfully to s3://de-project-postgres/athletes_data.parquet\n",
      "Fetching data from coaches...\n",
      "Data fetched for coaches, converting to Parquet...\n"
     ]
    },
    {
     "name": "stderr",
     "output_type": "stream",
     "text": [
      "/Users/raghavvishnoi/opt/anaconda3/lib/python3.9/site-packages/pandas/io/sql.py:762: UserWarning: pandas only support SQLAlchemy connectable(engine/connection) ordatabase string URI or sqlite3 DBAPI2 connectionother DBAPI2 objects are not tested, please consider using SQLAlchemy\n",
      "  warnings.warn(\n"
     ]
    },
    {
     "name": "stdout",
     "output_type": "stream",
     "text": [
      "File uploaded successfully to s3://de-project-postgres/coaches_data.parquet\n",
      "Fetching data from entries_gender...\n",
      "Data fetched for entries_gender, converting to Parquet...\n"
     ]
    },
    {
     "name": "stderr",
     "output_type": "stream",
     "text": [
      "/Users/raghavvishnoi/opt/anaconda3/lib/python3.9/site-packages/pandas/io/sql.py:762: UserWarning: pandas only support SQLAlchemy connectable(engine/connection) ordatabase string URI or sqlite3 DBAPI2 connectionother DBAPI2 objects are not tested, please consider using SQLAlchemy\n",
      "  warnings.warn(\n"
     ]
    },
    {
     "name": "stdout",
     "output_type": "stream",
     "text": [
      "File uploaded successfully to s3://de-project-postgres/entries_gender_data.parquet\n",
      "Fetching data from medals...\n",
      "Data fetched for medals, converting to Parquet...\n"
     ]
    },
    {
     "name": "stderr",
     "output_type": "stream",
     "text": [
      "/Users/raghavvishnoi/opt/anaconda3/lib/python3.9/site-packages/pandas/io/sql.py:762: UserWarning: pandas only support SQLAlchemy connectable(engine/connection) ordatabase string URI or sqlite3 DBAPI2 connectionother DBAPI2 objects are not tested, please consider using SQLAlchemy\n",
      "  warnings.warn(\n"
     ]
    },
    {
     "name": "stdout",
     "output_type": "stream",
     "text": [
      "File uploaded successfully to s3://de-project-postgres/medals_data.parquet\n",
      "Fetching data from teams...\n",
      "Data fetched for teams, converting to Parquet...\n"
     ]
    },
    {
     "name": "stderr",
     "output_type": "stream",
     "text": [
      "/Users/raghavvishnoi/opt/anaconda3/lib/python3.9/site-packages/pandas/io/sql.py:762: UserWarning: pandas only support SQLAlchemy connectable(engine/connection) ordatabase string URI or sqlite3 DBAPI2 connectionother DBAPI2 objects are not tested, please consider using SQLAlchemy\n",
      "  warnings.warn(\n"
     ]
    },
    {
     "name": "stdout",
     "output_type": "stream",
     "text": [
      "File uploaded successfully to s3://de-project-postgres/teams_data.parquet\n"
     ]
    }
   ],
   "source": [
    "import psycopg2\n",
    "import pandas as pd\n",
    "import boto3\n",
    "from io import BytesIO\n",
    "\n",
    "def connect_to_postgres():\n",
    "    try:\n",
    "        connection = psycopg2.connect(\n",
    "            host=\"\",\n",
    "            database=\"tokyo_olympics_db\",\n",
    "            user=\"postgres\",\n",
    "            password=\"test123\"\n",
    "        )\n",
    "        return connection\n",
    "    except Exception as e:\n",
    "        print(f\"Error connecting to PostgreSQL: {e}\")\n",
    "        return None\n",
    "\n",
    "# Fetch data from a PostgreSQL table and convert it to a DataFrame\n",
    "def fetch_data_from_postgres(query, connection):\n",
    "    try:\n",
    "        df = pd.read_sql(query, connection)\n",
    "        return df\n",
    "    except Exception as e:\n",
    "        print(f\"Error fetching data from PostgreSQL: {e}\")\n",
    "        return None\n",
    "\n",
    "# Convert DataFrame to Parquet format and store in memory\n",
    "def convert_to_parquet(df):\n",
    "    try:\n",
    "        buffer = BytesIO()\n",
    "        df.to_parquet(buffer, index=False, engine='fastparquet')\n",
    "        buffer.seek(0)\n",
    "        return buffer\n",
    "    except Exception as e:\n",
    "        print(f\"Error converting DataFrame to Parquet: {e}\")\n",
    "        return None\n",
    "\n",
    "# Upload Parquet data to S3\n",
    "def upload_to_s3(buffer, s3_bucket_name, s3_key):\n",
    "    try:\n",
    "        s3_client = boto3.client('s3')\n",
    "        \n",
    "        s3_client.put_object(Bucket=s3_bucket_name, Key=s3_key, Body=buffer)\n",
    "        print(f\"File uploaded successfully to s3://{s3_bucket_name}/{s3_key}\")\n",
    "    except Exception as e:\n",
    "        print(f\"Error uploading file to S3: {e}\")\n",
    "\n",
    "# Main function\n",
    "def process_and_upload():\n",
    "    connection = connect_to_postgres()\n",
    "    if connection is None:\n",
    "        return\n",
    "\n",
    "    # Fetch data from PostgreSQL for each of the tables\n",
    "    tables = [\"athletes\", \"coaches\", \"entries_gender\", \"medals\", \"teams\"]\n",
    "    for table in tables:\n",
    "        print(f\"Fetching data from {table}...\")\n",
    "        query = f\"SELECT * FROM {table}\"\n",
    "        df = fetch_data_from_postgres(query, connection)\n",
    "        if df is not None:\n",
    "            print(f\"Data fetched for {table}, converting to Parquet...\")\n",
    "            buffer = convert_to_parquet(df)\n",
    "            if buffer is not None:\n",
    "                s3_key = f\"{table}_data.parquet\"  \n",
    "                s3_bucket_name = \"de-project-postgres\"\n",
    "                upload_to_s3(buffer, s3_bucket_name, s3_key)\n",
    "    \n",
    "    connection.close()\n",
    "\n",
    "process_and_upload()\n"
   ]
  },
  {
   "cell_type": "code",
   "execution_count": null,
   "id": "45df9205",
   "metadata": {},
   "outputs": [],
   "source": []
  }
 ],
 "metadata": {
  "kernelspec": {
   "display_name": "Python 3 (ipykernel)",
   "language": "python",
   "name": "python3"
  },
  "language_info": {
   "codemirror_mode": {
    "name": "ipython",
    "version": 3
   },
   "file_extension": ".py",
   "mimetype": "text/x-python",
   "name": "python",
   "nbconvert_exporter": "python",
   "pygments_lexer": "ipython3",
   "version": "3.9.13"
  }
 },
 "nbformat": 4,
 "nbformat_minor": 5
}
